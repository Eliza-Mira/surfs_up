{
 "cells": [
  {
   "cell_type": "code",
   "execution_count": null,
   "metadata": {
    "collapsed": true
   },
   "outputs": [],
   "source": [
    "import pandas as pd\n",
    "pd.options.display.max_colwidth = 100"
   ]
  },
  {
   "cell_type": "code",
   "execution_count": null,
   "metadata": {},
   "outputs": [],
   "source": [
    "# load in English words list\n",
    "sherlock_file = '../Resources/sherlock.txt'\n",
    "\n",
    "sherlock_df = pd.read_csv(sherlock_file, sep='\\n', header=None)\n",
    "sherlock_df.columns = ['text']\n",
    "sherlock_df.head()\n"
   ]
  },
  {
   "cell_type": "code",
   "execution_count": null,
   "metadata": {},
   "outputs": [],
   "source": [
    "# find all lines of text with the string 'Watson'\n",
    "p = 'Watson'\n",
    "sherlock_df[sherlock_df['text'].str.contains(p)]"
   ]
  },
  {
   "cell_type": "code",
   "execution_count": null,
   "metadata": {},
   "outputs": [],
   "source": [
    "# find all lines of text with the string 'Watson' that are followed by a space\n",
    "p = 'Watson\\s'\n",
    "sherlock_df[sherlock_df['text'].str.contains(p)]"
   ]
  },
  {
   "cell_type": "code",
   "execution_count": null,
   "metadata": {},
   "outputs": [],
   "source": [
    "# find all lines of text with the string 'Watson' followed by a non-word character\n",
    "p = 'Watson\\W'\n",
    "sherlock_df[sherlock_df['text'].str.contains(p)]"
   ]
  },
  {
   "cell_type": "code",
   "execution_count": null,
   "metadata": {
    "collapsed": true
   },
   "outputs": [],
   "source": []
  }
 ],
 "metadata": {
  "kernelspec": {
   "display_name": "Python 3.7.13 ('PythonData')",
   "language": "python",
   "name": "python3"
  },
  "language_info": {
   "codemirror_mode": {
    "name": "ipython",
    "version": 3
   },
   "file_extension": ".py",
   "mimetype": "text/x-python",
   "name": "python",
   "nbconvert_exporter": "python",
   "pygments_lexer": "ipython3",
   "version": "3.7.13"
  },
  "vscode": {
   "interpreter": {
    "hash": "b29f6b19d9f98c15e1e77520b5e6ac960c30187864c97eaed83c8512b0c665ba"
   }
  }
 },
 "nbformat": 4,
 "nbformat_minor": 2
}
