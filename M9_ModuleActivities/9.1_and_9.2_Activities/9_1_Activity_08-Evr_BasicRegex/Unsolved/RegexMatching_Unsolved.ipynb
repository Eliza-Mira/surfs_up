{
 "cells": [
  {
   "cell_type": "code",
   "execution_count": null,
   "metadata": {
    "collapsed": true
   },
   "outputs": [],
   "source": [
    "import pandas as pd\n",
    "pd.options.display.max_colwidth = 100"
   ]
  },
  {
   "cell_type": "code",
   "execution_count": null,
   "metadata": {},
   "outputs": [],
   "source": [
    "# load in Alice in Wonderland text\n",
    "alice_file = '../Resources/alice.txt'\n",
    "\n",
    "alice_df = pd.read_csv(alice_file, sep='\\n', header=None)\n",
    "alice_df.columns = ['text']\n",
    "alice_df.head()"
   ]
  },
  {
   "cell_type": "code",
   "execution_count": null,
   "metadata": {},
   "outputs": [],
   "source": [
    "# find all lines of text with the string 'cat'\n",
    "p = # YOUR REGEX STRING HERE\n",
    "alice_df[alice_df['text'].str.contains(p)]"
   ]
  },
  {
   "cell_type": "code",
   "execution_count": null,
   "metadata": {},
   "outputs": [],
   "source": [
    "# find all lines of text with the string 'cat' that begin with a space\n",
    "p = # YOUR REGEX STRING HERE\n",
    "alice_df[alice_df['text'].str.contains(p)]"
   ]
  },
  {
   "cell_type": "code",
   "execution_count": null,
   "metadata": {},
   "outputs": [],
   "source": [
    "# find all lines of text with the string 'cat' that begin with a space and end with a non-word character\n",
    "p = # YOUR REGEX STRING HERE\n",
    "alice_df[alice_df['text'].str.contains(p)]"
   ]
  },
  {
   "cell_type": "code",
   "execution_count": null,
   "metadata": {
    "collapsed": true
   },
   "outputs": [],
   "source": []
  }
 ],
 "metadata": {
  "kernelspec": {
   "display_name": "Python 3.7.13 ('PythonData')",
   "language": "python",
   "name": "python3"
  },
  "language_info": {
   "codemirror_mode": {
    "name": "ipython",
    "version": 3
   },
   "file_extension": ".py",
   "mimetype": "text/x-python",
   "name": "python",
   "nbconvert_exporter": "python",
   "pygments_lexer": "ipython3",
   "version": "3.7.13"
  },
  "vscode": {
   "interpreter": {
    "hash": "b29f6b19d9f98c15e1e77520b5e6ac960c30187864c97eaed83c8512b0c665ba"
   }
  }
 },
 "nbformat": 4,
 "nbformat_minor": 2
}
